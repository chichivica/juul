{
 "cells": [
  {
   "cell_type": "markdown",
   "metadata": {},
   "source": [
    "# Facenet embeddings\n",
    "\n",
    "- [repo](https://github.com/davidsandberg/facenet/blob/master/src/validate_on_lfw.py)"
   ]
  },
  {
   "cell_type": "markdown",
   "metadata": {},
   "source": [
    "##### Imports"
   ]
  },
  {
   "cell_type": "code",
   "execution_count": 1,
   "metadata": {},
   "outputs": [],
   "source": [
    "import importlib\n",
    "import os,sys\n",
    "import tensorflow as tf\n",
    "from tqdm import tqdm\n",
    "import time\n",
    "import numpy as np\n",
    "\n",
    "%matplotlib inline"
   ]
  },
  {
   "cell_type": "code",
   "execution_count": 2,
   "metadata": {},
   "outputs": [],
   "source": [
    "project_dir = os.path.realpath('..')\n",
    "\n",
    "if not project_dir in sys.path: sys.path.append(project_dir)"
   ]
  },
  {
   "cell_type": "code",
   "execution_count": 3,
   "metadata": {},
   "outputs": [],
   "source": [
    "facenet = importlib.import_module('src.facenet.src.facenet', project_dir)\n",
    "from src.utils import load_hdf"
   ]
  },
  {
   "cell_type": "markdown",
   "metadata": {},
   "source": [
    "### Image files"
   ]
  },
  {
   "cell_type": "code",
   "execution_count": 4,
   "metadata": {},
   "outputs": [
    {
     "name": "stdout",
     "output_type": "stream",
     "text": [
      "Dataset image_paths loaded with 385407 lines\n"
     ]
    }
   ],
   "source": [
    "FILE = '../data/interim/embeddings/juul_day_mtcnn.hdf5'\n",
    "\n",
    "image_paths = load_hdf(FILE, keys=['image_paths'], print_results=True)['image_paths']\n",
    "\n",
    "image_paths = list(map(lambda x: x.decode('utf-8'), image_paths))"
   ]
  },
  {
   "cell_type": "markdown",
   "metadata": {},
   "source": [
    "### Graph"
   ]
  },
  {
   "cell_type": "code",
   "execution_count": 5,
   "metadata": {},
   "outputs": [
    {
     "name": "stdout",
     "output_type": "stream",
     "text": [
      "753 383\n"
     ]
    }
   ],
   "source": [
    "batch_size = 512\n",
    "steps,remainder = divmod(len(image_paths), batch_size)\n",
    "steps += 1 if remainder > 0 else 0\n",
    "print(steps, remainder)"
   ]
  },
  {
   "cell_type": "code",
   "execution_count": 6,
   "metadata": {
    "scrolled": true
   },
   "outputs": [
    {
     "name": "stderr",
     "output_type": "stream",
     "text": [
      "WARNING: Logging before flag parsing goes to stderr.\n",
      "W0719 12:17:05.202857 140234912388928 deprecation.py:323] From /home/neuro/RG/juul/process/src/facenet/src/facenet.py:373: FastGFile.__init__ (from tensorflow.python.platform.gfile) is deprecated and will be removed in a future version.\n",
      "Instructions for updating:\n",
      "Use tf.gfile.GFile.\n",
      "W0719 12:17:05.203795 140234912388928 deprecation_wrapper.py:119] From /home/neuro/RG/juul/process/src/facenet/src/facenet.py:374: The name tf.GraphDef is deprecated. Please use tf.compat.v1.GraphDef instead.\n",
      "\n"
     ]
    },
    {
     "name": "stdout",
     "output_type": "stream",
     "text": [
      "Model filename: ../models/20180402-114759/20180402-114759.pb\n"
     ]
    },
    {
     "name": "stderr",
     "output_type": "stream",
     "text": [
      "100%|██████████| 753/753 [36:48<00:00,  2.87s/it]\n"
     ]
    }
   ],
   "source": [
    "config = tf.ConfigProto() \n",
    "config.gpu_options.allow_growth = True \n",
    "g = tf.Graph()\n",
    "inference_time = []\n",
    "with g.as_default():\n",
    "    with tf.Session(config=config) as sess:\n",
    "        facenet.load_model('../models/20180402-114759/20180402-114759.pb')\n",
    "        embeddings_tensor = tf.get_default_graph().get_tensor_by_name(\"embeddings:0\")\n",
    "        embeddings = np.zeros((len(image_paths), embeddings_tensor.get_shape()[1]))\n",
    "        images_tensor = tf.get_default_graph().get_tensor_by_name(\"input:0\")\n",
    "        phase_train = tf.get_default_graph().get_tensor_by_name(\"phase_train:0\")\n",
    "        for step in tqdm(range(steps)):\n",
    "            start = step * batch_size\n",
    "            end = min(len(image_paths), (step + 1) * batch_size)\n",
    "            input_data = facenet.load_data(image_paths[start:end], False, False, 160)\n",
    "            time_start = time.time()\n",
    "            embeddings[start:end, :] = sess.run(embeddings_tensor, \n",
    "                                                feed_dict={images_tensor: input_data, \n",
    "                                                                phase_train: False})\n",
    "            batch_duration = time.time() - time_start\n",
    "            inference_time.append(batch_duration)"
   ]
  },
  {
   "cell_type": "code",
   "execution_count": 7,
   "metadata": {},
   "outputs": [
    {
     "name": "stdout",
     "output_type": "stream",
     "text": [
      "shapes (385407, 512)\n",
      "mean 0.0012723121992448847 +- 0.04417585531629799\n"
     ]
    }
   ],
   "source": [
    "print('shapes', embeddings.shape)\n",
    "print('mean', embeddings.mean(), '+-', embeddings.std())"
   ]
  },
  {
   "cell_type": "code",
   "execution_count": 8,
   "metadata": {},
   "outputs": [],
   "source": [
    "np.save('../data/interim/embeddings/juul_day_facenet_mtcnn.npy', embeddings)"
   ]
  },
  {
   "cell_type": "code",
   "execution_count": null,
   "metadata": {},
   "outputs": [],
   "source": []
  }
 ],
 "metadata": {
  "kernelspec": {
   "display_name": "Python 3",
   "language": "python",
   "name": "python3"
  },
  "language_info": {
   "codemirror_mode": {
    "name": "ipython",
    "version": 3
   },
   "file_extension": ".py",
   "mimetype": "text/x-python",
   "name": "python",
   "nbconvert_exporter": "python",
   "pygments_lexer": "ipython3",
   "version": "3.7.3"
  }
 },
 "nbformat": 4,
 "nbformat_minor": 2
}
