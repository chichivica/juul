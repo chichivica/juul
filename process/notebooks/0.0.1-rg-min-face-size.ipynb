{
 "cells": [
  {
   "cell_type": "markdown",
   "metadata": {},
   "source": [
    "\n",
    "# Get minimum face size to discard customers that are far"
   ]
  },
  {
   "cell_type": "markdown",
   "metadata": {},
   "source": [
    "### imports and configs"
   ]
  },
  {
   "cell_type": "code",
   "execution_count": 3,
   "metadata": {},
   "outputs": [],
   "source": [
    "import mtcnn\n",
    "import cv2\n",
    "import os"
   ]
  },
  {
   "cell_type": "code",
   "execution_count": 2,
   "metadata": {},
   "outputs": [],
   "source": [
    "out = '../data/raw/juul_shots_new/'\n",
    "video = '/mnt/neurus_storage04/RG_mnt/juul_2019-07-19/1563557486.mp4'"
   ]
  },
  {
   "cell_type": "markdown",
   "metadata": {},
   "source": [
    "### retrieve frames for visual"
   ]
  },
  {
   "cell_type": "code",
   "execution_count": 5,
   "metadata": {},
   "outputs": [],
   "source": [
    "cap = cv2.VideoCapture(video)\n",
    "\n",
    "i = 0\n",
    "while cap.isOpened():\n",
    "    ret = cap.grab()\n",
    "    if i % 50 == 0:\n",
    "        ret,frame = cap.retrieve()\n",
    "        if ret:\n",
    "            filename = os.path.basename(video).split('.')[0]\n",
    "            filename = '_'.join([filename, str(i)]) + '.jpg'\n",
    "            filepath = os.path.join(out, filename)\n",
    "            cv2.imwrite(filepath, frame)\n",
    "    if i > 1000: break\n",
    "    i += 1"
   ]
  },
  {
   "cell_type": "code",
   "execution_count": null,
   "metadata": {},
   "outputs": [],
   "source": []
  }
 ],
 "metadata": {
  "kernelspec": {
   "display_name": "Python 3",
   "language": "python",
   "name": "python3"
  },
  "language_info": {
   "codemirror_mode": {
    "name": "ipython",
    "version": 3
   },
   "file_extension": ".py",
   "mimetype": "text/x-python",
   "name": "python",
   "nbconvert_exporter": "python",
   "pygments_lexer": "ipython3",
   "version": "3.7.3"
  }
 },
 "nbformat": 4,
 "nbformat_minor": 2
}
